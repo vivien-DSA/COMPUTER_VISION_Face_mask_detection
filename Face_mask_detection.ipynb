{
 "cells": [
  {
   "cell_type": "markdown",
   "id": "brazilian-thirty",
   "metadata": {},
   "source": [
    "# loading dependencies and setting up paths"
   ]
  },
  {
   "cell_type": "code",
   "execution_count": 1,
   "id": "intellectual-champagne",
   "metadata": {},
   "outputs": [],
   "source": [
    "import cv2 # openCV\n",
    "import uuid # unique identifier for our images\n",
    "import os\n",
    "from pathlib import Path # path manager\n",
    "import glob # globbing utility.\n",
    "from tqdm import tqdm # for progress bar\n",
    "import numpy as np\n",
    "import matplotlib.pyplot as plt"
   ]
  },
  {
   "cell_type": "code",
   "execution_count": 2,
   "id": "exclusive-determination",
   "metadata": {},
   "outputs": [],
   "source": [
    "import tensorflow as tf\n",
    "from tensorflow import keras\n",
    "from tensorflow.keras import layers"
   ]
  },
  {
   "cell_type": "code",
   "execution_count": 2,
   "id": "expanded-customs",
   "metadata": {},
   "outputs": [],
   "source": [
    "images_path = Path('./Images')"
   ]
  },
  {
   "cell_type": "markdown",
   "id": "popular-robin",
   "metadata": {},
   "source": [
    "# Data collection and labelling"
   ]
  },
  {
   "cell_type": "markdown",
   "id": "documented-conservative",
   "metadata": {},
   "source": [
    "Collect images of my face with mask"
   ]
  },
  {
   "cell_type": "code",
   "execution_count": 6,
   "id": "relevant-polls",
   "metadata": {},
   "outputs": [],
   "source": [
    "capture = cv2.VideoCapture(0)\n",
    "# get the width and height of capture frame and convert it to integer\n",
    "width = int(capture.get(cv2.CAP_PROP_FRAME_WIDTH))\n",
    "height = int(capture.get(cv2.CAP_PROP_FRAME_HEIGHT))\n",
    "number_img = 0\n",
    "\n",
    "while True:\n",
    "    flag, faces_images = capture.read()\n",
    "    faces_images_name = images_path/'with mask/{}.jpg'.format(str(uuid.uuid1()))\n",
    "    if flag: \n",
    "        # If the camera is working flag == True\n",
    "        cv2.imwrite(faces_images_name, faces_images)\n",
    "        cv2.imshow('faces images', faces_images)\n",
    "        number_img+=1\n",
    "        if cv2.waitKey(2) == 27 or number_img ==1000:\n",
    "            # collecting 1000 images\n",
    "            break\n",
    "        \n",
    "capture.release()\n",
    "cv2.destroyAllWindows()"
   ]
  },
  {
   "cell_type": "markdown",
   "id": "absolute-puzzle",
   "metadata": {},
   "source": [
    "Collect images of my face without mask"
   ]
  },
  {
   "cell_type": "code",
   "execution_count": 7,
   "id": "reserved-pixel",
   "metadata": {},
   "outputs": [],
   "source": [
    "capture = cv2.VideoCapture(0)\n",
    "# get the width and height of capture frame and convert it to integer\n",
    "width = int(capture.get(cv2.CAP_PROP_FRAME_WIDTH))\n",
    "height = int(capture.get(cv2.CAP_PROP_FRAME_HEIGHT))\n",
    "number_img = 0\n",
    "while True:\n",
    "    flag, faces_images = capture.read()\n",
    "    faces_images_name = images_path/'without mask/{}.jpg'.format(str(uuid.uuid1()))\n",
    "    if flag: \n",
    "        # If the camera is working flag == True\n",
    "        cv2.imwrite(faces_images_name, faces_images)\n",
    "        cv2.imshow('faces images', faces_images)\n",
    "        number_img+=1\n",
    "        if cv2.waitKey(2) == 27 or number_img ==1000:\n",
    "                        # collecting 1000 images\n",
    "            break\n",
    "        \n",
    "capture.release()\n",
    "cv2.destroyAllWindows()"
   ]
  },
  {
   "cell_type": "markdown",
   "id": "detected-sender",
   "metadata": {},
   "source": [
    "# Data Preparation"
   ]
  },
  {
   "cell_type": "markdown",
   "id": "agricultural-click",
   "metadata": {},
   "source": [
    "**Convert images into array using OpenCV**"
   ]
  },
  {
   "cell_type": "code",
   "execution_count": 71,
   "id": "extensive-tooth",
   "metadata": {},
   "outputs": [],
   "source": [
    "def load_images_from_folder(folder):\n",
    "    images = []\n",
    "    for filename in tqdm(os.listdir(folder)):\n",
    "        img = cv2.imread(os.path.join(folder,filename))\n",
    "        # Resize the image for the DL model\n",
    "        img = cv2.resize(img, (224, 224))\n",
    "        if img is not None:\n",
    "            images.append(img)\n",
    "    return images"
   ]
  },
  {
   "cell_type": "code",
   "execution_count": 72,
   "id": "white-remove",
   "metadata": {},
   "outputs": [
    {
     "name": "stderr",
     "output_type": "stream",
     "text": [
      "100%|█████████████████████████████████████████████████████████████████████████████| 1000/1000 [00:04<00:00, 222.22it/s]\n",
      "100%|█████████████████████████████████████████████████████████████████████████████| 1000/1000 [00:04<00:00, 218.57it/s]\n"
     ]
    }
   ],
   "source": [
    "data_with_mask = np.array(load_images_from_folder(images_path/'with mask'))\n",
    "data_without_mask = np.array(load_images_from_folder(images_path/'without mask'))"
   ]
  },
  {
   "cell_type": "code",
   "execution_count": 73,
   "id": "hindu-uniform",
   "metadata": {},
   "outputs": [
    {
     "data": {
      "text/plain": [
       "(1000, 224, 224, 3)"
      ]
     },
     "execution_count": 73,
     "metadata": {},
     "output_type": "execute_result"
    }
   ],
   "source": [
    "data_with_mask.shape"
   ]
  },
  {
   "cell_type": "code",
   "execution_count": 74,
   "id": "quick-breast",
   "metadata": {},
   "outputs": [
    {
     "data": {
      "text/plain": [
       "(1000, 224, 224, 3)"
      ]
     },
     "execution_count": 74,
     "metadata": {},
     "output_type": "execute_result"
    }
   ],
   "source": [
    "data_without_mask.shape"
   ]
  },
  {
   "cell_type": "markdown",
   "id": "handy-server",
   "metadata": {},
   "source": [
    "**Create features shuffle them and create labels**"
   ]
  },
  {
   "cell_type": "code",
   "execution_count": 81,
   "id": "worst-indie",
   "metadata": {},
   "outputs": [],
   "source": [
    "features = np.concatenate((data_with_mask, data_without_mask), axis=0)\n",
    "np.random.shuffle(features)"
   ]
  },
  {
   "cell_type": "code",
   "execution_count": 85,
   "id": "allied-fitness",
   "metadata": {},
   "outputs": [],
   "source": [
    "# create label with 0 anywhere\n",
    "label = np.zeros(features.shape[0])\n",
    "# fix label for with mask data as 1\n",
    "label [0:data_with_mask.shape[0]] = 1"
   ]
  },
  {
   "cell_type": "code",
   "execution_count": 86,
   "id": "urban-challenge",
   "metadata": {},
   "outputs": [
    {
     "data": {
      "text/plain": [
       "((2000,), (2000, 224, 224, 3))"
      ]
     },
     "execution_count": 86,
     "metadata": {},
     "output_type": "execute_result"
    }
   ],
   "source": [
    "label.shape, features.shape"
   ]
  },
  {
   "cell_type": "markdown",
   "id": "resistant-squad",
   "metadata": {},
   "source": [
    "**Normalize the data**"
   ]
  },
  {
   "cell_type": "code",
   "execution_count": 87,
   "id": "matched-brake",
   "metadata": {},
   "outputs": [],
   "source": [
    "features = features/255.0"
   ]
  },
  {
   "cell_type": "code",
   "execution_count": 89,
   "id": "legislative-linux",
   "metadata": {},
   "outputs": [],
   "source": [
    "np.save('features.npy', features)\n",
    "np.save('label.npy', label)"
   ]
  },
  {
   "cell_type": "markdown",
   "id": "similar-force",
   "metadata": {},
   "source": [
    "# Training DL model"
   ]
  },
  {
   "cell_type": "code",
   "execution_count": 7,
   "id": "satellite-repository",
   "metadata": {},
   "outputs": [],
   "source": [
    "features = np.load('features.npy')\n",
    "label = np.load('label.npy')"
   ]
  },
  {
   "cell_type": "code",
   "execution_count": 8,
   "id": "friendly-universal",
   "metadata": {},
   "outputs": [
    {
     "data": {
      "text/plain": [
       "((1950,), (1950, 224, 224, 3))"
      ]
     },
     "execution_count": 8,
     "metadata": {},
     "output_type": "execute_result"
    }
   ],
   "source": [
    "label.shape, features.shape"
   ]
  },
  {
   "cell_type": "markdown",
   "id": "reasonable-engineering",
   "metadata": {},
   "source": [
    "**Download the pre-trained model: MobileNet**"
   ]
  },
  {
   "cell_type": "code",
   "execution_count": 10,
   "id": "available-johns",
   "metadata": {},
   "outputs": [],
   "source": [
    "model = tf.keras.applications.mobilenet.MobileNet() # pre-trained model"
   ]
  },
  {
   "cell_type": "markdown",
   "id": "worth-editing",
   "metadata": {},
   "source": [
    "**Transfer learning**"
   ]
  },
  {
   "cell_type": "code",
   "execution_count": 11,
   "id": "blind-specific",
   "metadata": {},
   "outputs": [],
   "source": [
    "base_input = model.layers[0].input"
   ]
  },
  {
   "cell_type": "code",
   "execution_count": 12,
   "id": "sublime-canada",
   "metadata": {},
   "outputs": [],
   "source": [
    "base_output = model.layers[-4].output"
   ]
  },
  {
   "cell_type": "code",
   "execution_count": 13,
   "id": "naval-playlist",
   "metadata": {},
   "outputs": [],
   "source": [
    "Flat_layer = layers.Flatten()(base_output)\n",
    "final_output = layers.Dense(1)(Flat_layer)\n",
    "final_output = layers.Activation('sigmoid')(final_output)"
   ]
  },
  {
   "cell_type": "code",
   "execution_count": 14,
   "id": "owned-camcorder",
   "metadata": {},
   "outputs": [],
   "source": [
    "new_model = keras.Model(inputs= base_input, outputs = final_output)"
   ]
  },
  {
   "cell_type": "code",
   "execution_count": 15,
   "id": "international-intelligence",
   "metadata": {
    "scrolled": true,
    "tags": []
   },
   "outputs": [
    {
     "name": "stdout",
     "output_type": "stream",
     "text": [
      "Model: \"model\"\n",
      "_________________________________________________________________\n",
      "Layer (type)                 Output Shape              Param #   \n",
      "=================================================================\n",
      "input_1 (InputLayer)         [(None, 224, 224, 3)]     0         \n",
      "_________________________________________________________________\n",
      "conv1_pad (ZeroPadding2D)    (None, 225, 225, 3)       0         \n",
      "_________________________________________________________________\n",
      "conv1 (Conv2D)               (None, 112, 112, 32)      864       \n",
      "_________________________________________________________________\n",
      "conv1_bn (BatchNormalization (None, 112, 112, 32)      128       \n",
      "_________________________________________________________________\n",
      "conv1_relu (ReLU)            (None, 112, 112, 32)      0         \n",
      "_________________________________________________________________\n",
      "conv_dw_1 (DepthwiseConv2D)  (None, 112, 112, 32)      288       \n",
      "_________________________________________________________________\n",
      "conv_dw_1_bn (BatchNormaliza (None, 112, 112, 32)      128       \n",
      "_________________________________________________________________\n",
      "conv_dw_1_relu (ReLU)        (None, 112, 112, 32)      0         \n",
      "_________________________________________________________________\n",
      "conv_pw_1 (Conv2D)           (None, 112, 112, 64)      2048      \n",
      "_________________________________________________________________\n",
      "conv_pw_1_bn (BatchNormaliza (None, 112, 112, 64)      256       \n",
      "_________________________________________________________________\n",
      "conv_pw_1_relu (ReLU)        (None, 112, 112, 64)      0         \n",
      "_________________________________________________________________\n",
      "conv_pad_2 (ZeroPadding2D)   (None, 113, 113, 64)      0         \n",
      "_________________________________________________________________\n",
      "conv_dw_2 (DepthwiseConv2D)  (None, 56, 56, 64)        576       \n",
      "_________________________________________________________________\n",
      "conv_dw_2_bn (BatchNormaliza (None, 56, 56, 64)        256       \n",
      "_________________________________________________________________\n",
      "conv_dw_2_relu (ReLU)        (None, 56, 56, 64)        0         \n",
      "_________________________________________________________________\n",
      "conv_pw_2 (Conv2D)           (None, 56, 56, 128)       8192      \n",
      "_________________________________________________________________\n",
      "conv_pw_2_bn (BatchNormaliza (None, 56, 56, 128)       512       \n",
      "_________________________________________________________________\n",
      "conv_pw_2_relu (ReLU)        (None, 56, 56, 128)       0         \n",
      "_________________________________________________________________\n",
      "conv_dw_3 (DepthwiseConv2D)  (None, 56, 56, 128)       1152      \n",
      "_________________________________________________________________\n",
      "conv_dw_3_bn (BatchNormaliza (None, 56, 56, 128)       512       \n",
      "_________________________________________________________________\n",
      "conv_dw_3_relu (ReLU)        (None, 56, 56, 128)       0         \n",
      "_________________________________________________________________\n",
      "conv_pw_3 (Conv2D)           (None, 56, 56, 128)       16384     \n",
      "_________________________________________________________________\n",
      "conv_pw_3_bn (BatchNormaliza (None, 56, 56, 128)       512       \n",
      "_________________________________________________________________\n",
      "conv_pw_3_relu (ReLU)        (None, 56, 56, 128)       0         \n",
      "_________________________________________________________________\n",
      "conv_pad_4 (ZeroPadding2D)   (None, 57, 57, 128)       0         \n",
      "_________________________________________________________________\n",
      "conv_dw_4 (DepthwiseConv2D)  (None, 28, 28, 128)       1152      \n",
      "_________________________________________________________________\n",
      "conv_dw_4_bn (BatchNormaliza (None, 28, 28, 128)       512       \n",
      "_________________________________________________________________\n",
      "conv_dw_4_relu (ReLU)        (None, 28, 28, 128)       0         \n",
      "_________________________________________________________________\n",
      "conv_pw_4 (Conv2D)           (None, 28, 28, 256)       32768     \n",
      "_________________________________________________________________\n",
      "conv_pw_4_bn (BatchNormaliza (None, 28, 28, 256)       1024      \n",
      "_________________________________________________________________\n",
      "conv_pw_4_relu (ReLU)        (None, 28, 28, 256)       0         \n",
      "_________________________________________________________________\n",
      "conv_dw_5 (DepthwiseConv2D)  (None, 28, 28, 256)       2304      \n",
      "_________________________________________________________________\n",
      "conv_dw_5_bn (BatchNormaliza (None, 28, 28, 256)       1024      \n",
      "_________________________________________________________________\n",
      "conv_dw_5_relu (ReLU)        (None, 28, 28, 256)       0         \n",
      "_________________________________________________________________\n",
      "conv_pw_5 (Conv2D)           (None, 28, 28, 256)       65536     \n",
      "_________________________________________________________________\n",
      "conv_pw_5_bn (BatchNormaliza (None, 28, 28, 256)       1024      \n",
      "_________________________________________________________________\n",
      "conv_pw_5_relu (ReLU)        (None, 28, 28, 256)       0         \n",
      "_________________________________________________________________\n",
      "conv_pad_6 (ZeroPadding2D)   (None, 29, 29, 256)       0         \n",
      "_________________________________________________________________\n",
      "conv_dw_6 (DepthwiseConv2D)  (None, 14, 14, 256)       2304      \n",
      "_________________________________________________________________\n",
      "conv_dw_6_bn (BatchNormaliza (None, 14, 14, 256)       1024      \n",
      "_________________________________________________________________\n",
      "conv_dw_6_relu (ReLU)        (None, 14, 14, 256)       0         \n",
      "_________________________________________________________________\n",
      "conv_pw_6 (Conv2D)           (None, 14, 14, 512)       131072    \n",
      "_________________________________________________________________\n",
      "conv_pw_6_bn (BatchNormaliza (None, 14, 14, 512)       2048      \n",
      "_________________________________________________________________\n",
      "conv_pw_6_relu (ReLU)        (None, 14, 14, 512)       0         \n",
      "_________________________________________________________________\n",
      "conv_dw_7 (DepthwiseConv2D)  (None, 14, 14, 512)       4608      \n",
      "_________________________________________________________________\n",
      "conv_dw_7_bn (BatchNormaliza (None, 14, 14, 512)       2048      \n",
      "_________________________________________________________________\n",
      "conv_dw_7_relu (ReLU)        (None, 14, 14, 512)       0         \n",
      "_________________________________________________________________\n",
      "conv_pw_7 (Conv2D)           (None, 14, 14, 512)       262144    \n",
      "_________________________________________________________________\n",
      "conv_pw_7_bn (BatchNormaliza (None, 14, 14, 512)       2048      \n",
      "_________________________________________________________________\n",
      "conv_pw_7_relu (ReLU)        (None, 14, 14, 512)       0         \n",
      "_________________________________________________________________\n",
      "conv_dw_8 (DepthwiseConv2D)  (None, 14, 14, 512)       4608      \n",
      "_________________________________________________________________\n",
      "conv_dw_8_bn (BatchNormaliza (None, 14, 14, 512)       2048      \n",
      "_________________________________________________________________\n",
      "conv_dw_8_relu (ReLU)        (None, 14, 14, 512)       0         \n",
      "_________________________________________________________________\n",
      "conv_pw_8 (Conv2D)           (None, 14, 14, 512)       262144    \n",
      "_________________________________________________________________\n",
      "conv_pw_8_bn (BatchNormaliza (None, 14, 14, 512)       2048      \n",
      "_________________________________________________________________\n",
      "conv_pw_8_relu (ReLU)        (None, 14, 14, 512)       0         \n",
      "_________________________________________________________________\n",
      "conv_dw_9 (DepthwiseConv2D)  (None, 14, 14, 512)       4608      \n",
      "_________________________________________________________________\n",
      "conv_dw_9_bn (BatchNormaliza (None, 14, 14, 512)       2048      \n",
      "_________________________________________________________________\n",
      "conv_dw_9_relu (ReLU)        (None, 14, 14, 512)       0         \n",
      "_________________________________________________________________\n",
      "conv_pw_9 (Conv2D)           (None, 14, 14, 512)       262144    \n",
      "_________________________________________________________________\n",
      "conv_pw_9_bn (BatchNormaliza (None, 14, 14, 512)       2048      \n",
      "_________________________________________________________________\n",
      "conv_pw_9_relu (ReLU)        (None, 14, 14, 512)       0         \n",
      "_________________________________________________________________\n",
      "conv_dw_10 (DepthwiseConv2D) (None, 14, 14, 512)       4608      \n",
      "_________________________________________________________________\n",
      "conv_dw_10_bn (BatchNormaliz (None, 14, 14, 512)       2048      \n",
      "_________________________________________________________________\n",
      "conv_dw_10_relu (ReLU)       (None, 14, 14, 512)       0         \n",
      "_________________________________________________________________\n",
      "conv_pw_10 (Conv2D)          (None, 14, 14, 512)       262144    \n",
      "_________________________________________________________________\n",
      "conv_pw_10_bn (BatchNormaliz (None, 14, 14, 512)       2048      \n",
      "_________________________________________________________________\n",
      "conv_pw_10_relu (ReLU)       (None, 14, 14, 512)       0         \n",
      "_________________________________________________________________\n",
      "conv_dw_11 (DepthwiseConv2D) (None, 14, 14, 512)       4608      \n",
      "_________________________________________________________________\n",
      "conv_dw_11_bn (BatchNormaliz (None, 14, 14, 512)       2048      \n",
      "_________________________________________________________________\n",
      "conv_dw_11_relu (ReLU)       (None, 14, 14, 512)       0         \n",
      "_________________________________________________________________\n",
      "conv_pw_11 (Conv2D)          (None, 14, 14, 512)       262144    \n",
      "_________________________________________________________________\n",
      "conv_pw_11_bn (BatchNormaliz (None, 14, 14, 512)       2048      \n",
      "_________________________________________________________________\n",
      "conv_pw_11_relu (ReLU)       (None, 14, 14, 512)       0         \n",
      "_________________________________________________________________\n",
      "conv_pad_12 (ZeroPadding2D)  (None, 15, 15, 512)       0         \n",
      "_________________________________________________________________\n",
      "conv_dw_12 (DepthwiseConv2D) (None, 7, 7, 512)         4608      \n",
      "_________________________________________________________________\n",
      "conv_dw_12_bn (BatchNormaliz (None, 7, 7, 512)         2048      \n",
      "_________________________________________________________________\n",
      "conv_dw_12_relu (ReLU)       (None, 7, 7, 512)         0         \n",
      "_________________________________________________________________\n",
      "conv_pw_12 (Conv2D)          (None, 7, 7, 1024)        524288    \n",
      "_________________________________________________________________\n",
      "conv_pw_12_bn (BatchNormaliz (None, 7, 7, 1024)        4096      \n",
      "_________________________________________________________________\n",
      "conv_pw_12_relu (ReLU)       (None, 7, 7, 1024)        0         \n",
      "_________________________________________________________________\n",
      "conv_dw_13 (DepthwiseConv2D) (None, 7, 7, 1024)        9216      \n",
      "_________________________________________________________________\n",
      "conv_dw_13_bn (BatchNormaliz (None, 7, 7, 1024)        4096      \n",
      "_________________________________________________________________\n",
      "conv_dw_13_relu (ReLU)       (None, 7, 7, 1024)        0         \n",
      "_________________________________________________________________\n",
      "conv_pw_13 (Conv2D)          (None, 7, 7, 1024)        1048576   \n",
      "_________________________________________________________________\n",
      "conv_pw_13_bn (BatchNormaliz (None, 7, 7, 1024)        4096      \n",
      "_________________________________________________________________\n",
      "conv_pw_13_relu (ReLU)       (None, 7, 7, 1024)        0         \n",
      "_________________________________________________________________\n",
      "global_average_pooling2d (Gl (None, 1024)              0         \n",
      "_________________________________________________________________\n",
      "reshape_1 (Reshape)          (None, 1, 1, 1024)        0         \n",
      "_________________________________________________________________\n",
      "dropout (Dropout)            (None, 1, 1, 1024)        0         \n",
      "_________________________________________________________________\n",
      "flatten (Flatten)            (None, 1024)              0         \n",
      "_________________________________________________________________\n",
      "dense (Dense)                (None, 1)                 1025      \n",
      "_________________________________________________________________\n",
      "activation (Activation)      (None, 1)                 0         \n",
      "=================================================================\n",
      "Total params: 3,229,889\n",
      "Trainable params: 3,208,001\n",
      "Non-trainable params: 21,888\n",
      "_________________________________________________________________\n"
     ]
    }
   ],
   "source": [
    "new_model.summary()"
   ]
  },
  {
   "cell_type": "markdown",
   "id": "strategic-weather",
   "metadata": {},
   "source": [
    "**Use the model**"
   ]
  },
  {
   "cell_type": "code",
   "execution_count": 16,
   "id": "committed-anatomy",
   "metadata": {},
   "outputs": [],
   "source": [
    "new_model.compile(loss='binary_crossentropy', optimizer = 'adam', metrics = ['accuracy'])"
   ]
  },
  {
   "cell_type": "code",
   "execution_count": 19,
   "id": "economic-trailer",
   "metadata": {
    "scrolled": true,
    "tags": []
   },
   "outputs": [
    {
     "name": "stdout",
     "output_type": "stream",
     "text": [
      "Train on 1657 samples, validate on 293 samples\n",
      "Epoch 1/20\n",
      "1657/1657 [==============================] - 168s 102ms/sample - loss: 0.5677 - accuracy: 0.7224 - val_loss: 0.0484 - val_accuracy: 1.0000\n",
      "Epoch 2/20\n",
      "1657/1657 [==============================] - 178s 108ms/sample - loss: 0.4554 - accuracy: 0.7882 - val_loss: 0.1357 - val_accuracy: 0.9522\n",
      "Epoch 3/20\n",
      "1657/1657 [==============================] - 235s 142ms/sample - loss: 0.3791 - accuracy: 0.8256 - val_loss: 1.4709 - val_accuracy: 0.4164\n",
      "Epoch 4/20\n",
      "1657/1657 [==============================] - 232s 140ms/sample - loss: 0.2272 - accuracy: 0.9095 - val_loss: 5.8808 - val_accuracy: 0.0751\n",
      "Epoch 5/20\n",
      "1657/1657 [==============================] - 238s 144ms/sample - loss: 0.2482 - accuracy: 0.8968 - val_loss: 3.2346 - val_accuracy: 0.3072\n",
      "Epoch 6/20\n",
      "1657/1657 [==============================] - 233s 141ms/sample - loss: 0.1942 - accuracy: 0.9197 - val_loss: 0.3393 - val_accuracy: 0.8430\n",
      "Epoch 7/20\n",
      "1657/1657 [==============================] - 174s 105ms/sample - loss: 0.1525 - accuracy: 0.9348 - val_loss: 0.2512 - val_accuracy: 0.8976\n",
      "Epoch 8/20\n",
      "1657/1657 [==============================] - 194s 117ms/sample - loss: 0.1431 - accuracy: 0.9415 - val_loss: 7.3306 - val_accuracy: 0.0375\n",
      "Epoch 9/20\n",
      "1657/1657 [==============================] - 231s 140ms/sample - loss: 0.1334 - accuracy: 0.9505 - val_loss: 2.8202 - val_accuracy: 0.3652\n",
      "Epoch 10/20\n",
      "1657/1657 [==============================] - 226s 136ms/sample - loss: 0.1024 - accuracy: 0.9620 - val_loss: 3.7569 - val_accuracy: 0.2662\n",
      "Epoch 11/20\n",
      "1657/1657 [==============================] - 236s 143ms/sample - loss: 0.0881 - accuracy: 0.9656 - val_loss: 3.5032 - val_accuracy: 0.2253\n",
      "Epoch 12/20\n",
      "1657/1657 [==============================] - 229s 138ms/sample - loss: 0.0787 - accuracy: 0.9704 - val_loss: 4.0762 - val_accuracy: 0.3072\n",
      "Epoch 13/20\n",
      "1657/1657 [==============================] - 197s 119ms/sample - loss: 0.0757 - accuracy: 0.9734 - val_loss: 2.9954 - val_accuracy: 0.2594\n",
      "Epoch 14/20\n",
      "1657/1657 [==============================] - 232s 140ms/sample - loss: 0.0697 - accuracy: 0.9722 - val_loss: 3.6668 - val_accuracy: 0.1843\n",
      "Epoch 15/20\n",
      "1657/1657 [==============================] - 221s 133ms/sample - loss: 0.0725 - accuracy: 0.9722 - val_loss: 1.2647 - val_accuracy: 0.7474\n",
      "Epoch 16/20\n",
      "1657/1657 [==============================] - 179s 108ms/sample - loss: 0.0618 - accuracy: 0.9759 - val_loss: 3.6166 - val_accuracy: 0.3379\n",
      "Epoch 17/20\n",
      "1657/1657 [==============================] - 225s 136ms/sample - loss: 0.0374 - accuracy: 0.9867 - val_loss: 6.6034 - val_accuracy: 0.1126\n",
      "Epoch 18/20\n",
      "1657/1657 [==============================] - 223s 135ms/sample - loss: 0.0125 - accuracy: 0.9970 - val_loss: 2.7107 - val_accuracy: 0.4369\n",
      "Epoch 19/20\n",
      "1657/1657 [==============================] - 229s 138ms/sample - loss: 0.0157 - accuracy: 0.9952 - val_loss: 1.6948 - val_accuracy: 0.6280\n",
      "Epoch 20/20\n",
      "1657/1657 [==============================] - 224s 135ms/sample - loss: 0.0719 - accuracy: 0.9765 - val_loss: 4.5287 - val_accuracy: 0.2253\n"
     ]
    },
    {
     "data": {
      "text/plain": [
       "<tensorflow.python.keras.callbacks.History at 0x2448ec15f28>"
      ]
     },
     "execution_count": 19,
     "metadata": {},
     "output_type": "execute_result"
    }
   ],
   "source": [
    "new_model.fit(features, label, epochs=20, validation_split = 0.15, shuffle=True)"
   ]
  },
  {
   "cell_type": "markdown",
   "id": "pacific-resort",
   "metadata": {},
   "source": [
    "To detect the face we will use haarcascade_frontal_face_default.xml"
   ]
  },
  {
   "cell_type": "code",
   "execution_count": 23,
   "id": "excessive-hunter",
   "metadata": {},
   "outputs": [],
   "source": [
    "new_model.save(\"mask_detector.model\")"
   ]
  },
  {
   "cell_type": "markdown",
   "id": "choice-member",
   "metadata": {},
   "source": [
    "# Predictions using model saved"
   ]
  },
  {
   "cell_type": "code",
   "execution_count": 8,
   "id": "aquatic-nitrogen",
   "metadata": {},
   "outputs": [],
   "source": [
    "import cv2 # openCV\n",
    "import numpy as np\n",
    "import matplotlib.pyplot as plt"
   ]
  },
  {
   "cell_type": "code",
   "execution_count": 2,
   "id": "tough-mobile",
   "metadata": {},
   "outputs": [],
   "source": [
    "import tensorflow as tf\n",
    "from tensorflow import keras\n",
    "from tensorflow.keras import layers"
   ]
  },
  {
   "cell_type": "code",
   "execution_count": 3,
   "id": "lucky-smith",
   "metadata": {},
   "outputs": [],
   "source": [
    "model = keras.models.load_model(\"mask_detector.model\")"
   ]
  },
  {
   "cell_type": "markdown",
   "id": "according-institution",
   "metadata": {},
   "source": [
    "> Before predicting we need to preprocess the image :\n",
    "    >- Detect the face ( we will use haarcascade_frontalface_default.xml)\n",
    "    >- resize it to the input size of our model (224, 224)\n",
    "    >- reshape to 4 dimensions\n",
    "    >- normalize\n",
    "   "
   ]
  },
  {
   "cell_type": "code",
   "execution_count": 4,
   "id": "sophisticated-prophet",
   "metadata": {},
   "outputs": [],
   "source": [
    "haar_data = cv2.CascadeClassifier('haarcascade_frontalface_default.xml')"
   ]
  },
  {
   "cell_type": "code",
   "execution_count": 9,
   "id": "threatened-craps",
   "metadata": {},
   "outputs": [
    {
     "name": "stdout",
     "output_type": "stream",
     "text": [
      "mask detected\n"
     ]
    },
    {
     "data": {
      "image/png": "[encoded data removed]",
      "text/plain": [
       "<Figure size 432x288 with 1 Axes>"
      ]
     },
     "metadata": {
      "needs_background": "light"
     },
     "output_type": "display_data"
    }
   ],
   "source": [
    "frame = cv2.imread('./Images/with_mask/00010_Mask.jpg')\n",
    "# frame = cv2.imread('./Images/without_mask/00015.png')\n",
    "# frame = cv2.imread('./Images/without mask/90529f12-8405-11eb-bc81-c809a8783858.jpg')\n",
    "border_thickness = 2\n",
    "green = (0, 255, 0)\n",
    "red = (0, 0, 255)\n",
    "faces = haar_data.detectMultiScale(frame)\n",
    "\n",
    "for x, y, w, h in faces:\n",
    "    face = frame[y:y+h, x:x+w, :]\n",
    "    final_image = cv2.resize(face, (224,224))\n",
    "    final_image = np.expand_dims(final_image, axis=0)\n",
    "    final_image = final_image/255.0\n",
    "    prediction = model.predict(final_image)[0, 0]\n",
    "    prediction_percentage = \"{0:.3%}\".format(prediction)\n",
    "#     print(prediction_percentage)\n",
    "    if prediction > 0.5:\n",
    "        print('mask detected')\n",
    "        cv2.rectangle(frame, (x, y), (x+w, y+h), green, border_thickness)\n",
    "        cv2.putText(frame, prediction_percentage, (x, y - 10), cv2.FONT_HERSHEY_SIMPLEX, 1, green, border_thickness)\n",
    "    else: \n",
    "        print('no mask detected')\n",
    "        cv2.rectangle(frame, (x, y), (x+w, y+h), red, border_thickness)\n",
    "        cv2.putText(frame, prediction_percentage, (x, y - 10), cv2.FONT_HERSHEY_SIMPLEX, 1, red, border_thickness)\n",
    "\n",
    "    plt.imshow(cv2.cvtColor(frame, cv2.COLOR_BGR2RGB))\n"
   ]
  },
  {
   "cell_type": "code",
   "execution_count": 10,
   "id": "proved-hungary",
   "metadata": {},
   "outputs": [],
   "source": [
    "capture = cv2.VideoCapture(0)\n",
    "\n",
    "while True:\n",
    "    flag, faces_images = capture.read()\n",
    "    faces = haar_data.detectMultiScale(faces_images)\n",
    "    if flag:\n",
    "        for x, y, w, h in faces:\n",
    "            face = faces_images[y:y+h, x:x+w, :]\n",
    "            final_image = cv2.resize(face, (224,224))\n",
    "            final_image = np.expand_dims(final_image, axis=0)\n",
    "            final_image = final_image/255.0\n",
    "            prediction = model.predict(final_image)[0, 0]\n",
    "            prediction_percentage = \"{0:.3%}\".format(prediction)\n",
    "        #     print(prediction_percentage)\n",
    "            if prediction > 0.5:\n",
    "#                 print('mask detected')\n",
    "                cv2.rectangle(faces_images, (x, y), (x+w, y+h), green, border_thickness)\n",
    "                cv2.putText(faces_images, prediction_percentage, (x, y - 10), cv2.FONT_HERSHEY_SIMPLEX, 1, green, border_thickness)\n",
    "            else: \n",
    "#                 print('no mask detected')\n",
    "                cv2.rectangle(faces_images, (x, y), (x+w, y+h), red, border_thickness)\n",
    "                cv2.putText(faces_images, prediction_percentage, (x, y - 10), cv2.FONT_HERSHEY_SIMPLEX, 1, red, border_thickness)\n",
    "        cv2.imshow('results', faces_images)\n",
    "        # 27 is the ASCII number of Escape button\n",
    "        if cv2.waitKey(2) == 27:\n",
    "            break\n",
    "capture.release()\n",
    "cv2.destroyAllWindows()"
   ]
  },
  {
   "cell_type": "code",
   "execution_count": null,
   "id": "essential-apollo",
   "metadata": {},
   "outputs": [],
   "source": []
  }
 ],
 "metadata": {
  "kernelspec": {
   "display_name": "Python 3",
   "language": "python",
   "name": "python3"
  },
  "language_info": {
   "codemirror_mode": {
    "name": "ipython",
    "version": 3
   },
   "file_extension": ".py",
   "mimetype": "text/x-python",
   "name": "python",
   "nbconvert_exporter": "python",
   "pygments_lexer": "ipython3",
   "version": "3.6.12"
  },
  "toc-autonumbering": true
 },
 "nbformat": 4,
 "nbformat_minor": 5
}
